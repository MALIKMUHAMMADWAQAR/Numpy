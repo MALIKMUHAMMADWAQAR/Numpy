{
 "cells": [
  {
   "cell_type": "markdown",
   "metadata": {},
   "source": [
    "# Difference between python list and numpy array"
   ]
  },
  {
   "cell_type": "code",
   "execution_count": 8,
   "metadata": {},
   "outputs": [
    {
     "ename": "TypeError",
     "evalue": "can only assign an iterable",
     "output_type": "error",
     "traceback": [
      "\u001b[0;31m---------------------------------------------------------------------------\u001b[0m",
      "\u001b[0;31mTypeError\u001b[0m                                 Traceback (most recent call last)",
      "\u001b[0;32m<ipython-input-8-e03aa81dae22>\u001b[0m in \u001b[0;36m<module>\u001b[0;34m\u001b[0m\n\u001b[1;32m      1\u001b[0m \u001b[0mls\u001b[0m \u001b[0;34m=\u001b[0m \u001b[0;34m[\u001b[0m\u001b[0;36m1\u001b[0m\u001b[0;34m,\u001b[0m\u001b[0;36m2\u001b[0m\u001b[0;34m,\u001b[0m\u001b[0;36m3\u001b[0m\u001b[0;34m,\u001b[0m\u001b[0;36m44\u001b[0m\u001b[0;34m,\u001b[0m\u001b[0;36m5\u001b[0m\u001b[0;34m,\u001b[0m\u001b[0;36m56\u001b[0m\u001b[0;34m,\u001b[0m\u001b[0;36m66\u001b[0m\u001b[0;34m,\u001b[0m\u001b[0;36m8\u001b[0m\u001b[0;34m]\u001b[0m\u001b[0;34m\u001b[0m\u001b[0;34m\u001b[0m\u001b[0m\n\u001b[0;32m----> 2\u001b[0;31m \u001b[0mls\u001b[0m\u001b[0;34m[\u001b[0m\u001b[0;36m3\u001b[0m\u001b[0;34m:\u001b[0m\u001b[0;36m6\u001b[0m\u001b[0;34m]\u001b[0m \u001b[0;34m=\u001b[0m \u001b[0;36m5\u001b[0m\u001b[0;34m\u001b[0m\u001b[0;34m\u001b[0m\u001b[0m\n\u001b[0m",
      "\u001b[0;31mTypeError\u001b[0m: can only assign an iterable"
     ]
    }
   ],
   "source": [
    "ls = [1,2,3,44,5,56,66,8]\n",
    "ls[3:6] = 5"
   ]
  },
  {
   "cell_type": "code",
   "execution_count": 12,
   "metadata": {},
   "outputs": [
    {
     "data": {
      "text/plain": [
       "array([ 1,  2,  3,  0,  0,  0, 66,  8])"
      ]
     },
     "execution_count": 12,
     "metadata": {},
     "output_type": "execute_result"
    }
   ],
   "source": [
    "import numpy as np\n",
    "arr = np.array([1,2,3,44,5,56,66,8])\n",
    "arr[3:6] = 0\n",
    "arr"
   ]
  },
  {
   "cell_type": "code",
   "execution_count": 14,
   "metadata": {},
   "outputs": [
    {
     "name": "stdout",
     "output_type": "stream",
     "text": [
      "[1 2 3]\n",
      "[  1 999 999   0   0   0  66   8]\n"
     ]
    }
   ],
   "source": [
    "arr_slice = arr[0:3]\n",
    "print(arr_slice)\n",
    "arr_slice[1:3] = 999\n",
    "print(arr)"
   ]
  },
  {
   "cell_type": "code",
   "execution_count": 28,
   "metadata": {},
   "outputs": [
    {
     "name": "stdout",
     "output_type": "stream",
     "text": [
      "6\n",
      "6\n",
      "[[1 2 3]\n",
      " [4 5 6]\n",
      " [7 8 9]]\n",
      "[[2 3]\n",
      " [5 6]]\n"
     ]
    }
   ],
   "source": [
    "arr_2d = np.array([[1,2,3],[4,5,6],[7,8,9]])\n",
    "print(arr_2d[1][2])\n",
    "print(arr_2d[1,2])\n",
    "print(arr_2d)\n",
    "print(arr_2d[:2,1:])"
   ]
  },
  {
   "cell_type": "code",
   "execution_count": 31,
   "metadata": {},
   "outputs": [
    {
     "name": "stdout",
     "output_type": "stream",
     "text": [
      "[[1 2 3]\n",
      " [4 5 6]\n",
      " [6 7 8]]\n",
      "[[ 9 10 11]\n",
      " [13 14 15]\n",
      " [16 17 18]]\n",
      "17\n",
      "17\n"
     ]
    }
   ],
   "source": [
    "arr_3d = np.array([[[1,2,3],[4,5,6],[6,7,8]],[[9,10,11],[13,14,15],[16,17,18]]])\n",
    "print(arr_3d[0])\n",
    "print(arr_3d[1])\n",
    "print(arr_3d[1,2,1]) \n",
    "print(arr_3d[-1,-1,-2])\n",
    "\n"
   ]
  },
  {
   "cell_type": "code",
   "execution_count": 32,
   "metadata": {},
   "outputs": [
    {
     "name": "stdout",
     "output_type": "stream",
     "text": [
      "[[10 11]\n",
      " [14 15]\n",
      " [17 18]]\n",
      "[[14 15]\n",
      " [17 18]]\n"
     ]
    }
   ],
   "source": [
    "print(arr_3d[1,:,1:])\n",
    "print(arr_3d[1,1:,1:])"
   ]
  },
  {
   "cell_type": "code",
   "execution_count": 36,
   "metadata": {},
   "outputs": [
    {
     "name": "stdout",
     "output_type": "stream",
     "text": [
      "[[ 9 10]\n",
      " [13 14]\n",
      " [16 17]]\n"
     ]
    }
   ],
   "source": [
    "print(arr_3d[-1,:,-3:-1])"
   ]
  },
  {
   "cell_type": "code",
   "execution_count": 37,
   "metadata": {},
   "outputs": [
    {
     "name": "stdout",
     "output_type": "stream",
     "text": [
      "[[ 9 10]\n",
      " [13 14]\n",
      " [16 17]]\n"
     ]
    }
   ],
   "source": [
    "print(arr_3d[1,:,:2])"
   ]
  },
  {
   "cell_type": "code",
   "execution_count": 52,
   "metadata": {},
   "outputs": [
    {
     "data": {
      "text/plain": [
       "array([[ 0.26740271,  0.36750796,  0.4158862 , -0.25280347,  1.03130523,\n",
       "         0.25365031,  1.32782746],\n",
       "       [-0.09948693,  2.27260649,  0.2380539 , -1.39583297, -0.49709366,\n",
       "        -0.59160291, -2.13832081],\n",
       "       [-1.37078977, -0.58180799,  0.56754325,  0.9284975 , -0.20999786,\n",
       "        -0.52924074, -0.25260366],\n",
       "       [-2.65839581, -0.81635256,  1.42086667,  0.58514014, -0.54145813,\n",
       "        -2.55767376, -0.5985675 ],\n",
       "       [ 2.04802249, -0.90213871,  0.15297324, -0.91875955,  0.17398908,\n",
       "         1.9984766 ,  0.48164162],\n",
       "       [-2.47393333,  1.30852006, -0.81074051, -0.94394287,  0.07613631,\n",
       "         0.71064576,  0.10710384],\n",
       "       [-1.49507049, -1.34232953,  0.12182859,  1.9904278 ,  1.68117323,\n",
       "         0.47602405, -0.81961469]])"
      ]
     },
     "execution_count": 52,
     "metadata": {},
     "output_type": "execute_result"
    }
   ],
   "source": [
    "names = np.array(['yawar','waqar','Ali','Ahmed','Luqman','Ali','waqar'])\n",
    "data = np.random.randn(7,7)\n",
    "data"
   ]
  },
  {
   "cell_type": "markdown",
   "metadata": {},
   "source": [
    "# boolean indexing\n"
   ]
  },
  {
   "cell_type": "code",
   "execution_count": 54,
   "metadata": {},
   "outputs": [
    {
     "data": {
      "text/plain": [
       "array([[ 0.26740271,  0.36750796,  0.4158862 , -0.25280347,  1.03130523,\n",
       "         0.25365031,  1.32782746]])"
      ]
     },
     "execution_count": 54,
     "metadata": {},
     "output_type": "execute_result"
    }
   ],
   "source": [
    "data[names == 'yawar']"
   ]
  },
  {
   "cell_type": "code",
   "execution_count": 61,
   "metadata": {},
   "outputs": [
    {
     "data": {
      "text/plain": [
       "array([[ 0.26740271,  0.36750796,  0.4158862 , -0.25280347,  1.03130523,\n",
       "         0.25365031,  1.32782746],\n",
       "       [-0.09948693,  2.27260649,  0.2380539 , -1.39583297, -0.49709366,\n",
       "        -0.59160291, -2.13832081],\n",
       "       [-1.49507049, -1.34232953,  0.12182859,  1.9904278 ,  1.68117323,\n",
       "         0.47602405, -0.81961469]])"
      ]
     },
     "execution_count": 61,
     "metadata": {},
     "output_type": "execute_result"
    }
   ],
   "source": [
    "data[(names == 'waqar') | (names == 'yawar')]"
   ]
  },
  {
   "cell_type": "code",
   "execution_count": 60,
   "metadata": {},
   "outputs": [
    {
     "data": {
      "text/plain": [
       "array([[ 0.26740271,  0.36750796],\n",
       "       [-0.09948693,  2.27260649],\n",
       "       [-1.49507049, -1.34232953]])"
      ]
     },
     "execution_count": 60,
     "metadata": {},
     "output_type": "execute_result"
    }
   ],
   "source": [
    "data[(names == 'waqar') | (names == 'yawar'),:2]"
   ]
  },
  {
   "cell_type": "code",
   "execution_count": 63,
   "metadata": {},
   "outputs": [
    {
     "data": {
      "text/plain": [
       "array([[ 0.26740271,  0.36750796,  0.4158862 , -0.25280347],\n",
       "       [-1.37078977, -0.58180799,  0.56754325,  0.9284975 ],\n",
       "       [-2.65839581, -0.81635256,  1.42086667,  0.58514014],\n",
       "       [ 2.04802249, -0.90213871,  0.15297324, -0.91875955],\n",
       "       [-2.47393333,  1.30852006, -0.81074051, -0.94394287]])"
      ]
     },
     "execution_count": 63,
     "metadata": {},
     "output_type": "execute_result"
    }
   ],
   "source": [
    "data[~(names == 'waqar'),:4]"
   ]
  },
  {
   "cell_type": "code",
   "execution_count": 69,
   "metadata": {},
   "outputs": [
    {
     "name": "stdout",
     "output_type": "stream",
     "text": [
      "[[-0.09948693  2.27260649  0.2380539  -1.39583297 -0.49709366 -0.59160291\n",
      "  -2.13832081]\n",
      " [-1.37078977 -0.58180799  0.56754325  0.9284975  -0.20999786 -0.52924074\n",
      "  -0.25260366]\n",
      " [-2.47393333  1.30852006 -0.81074051 -0.94394287  0.07613631  0.71064576\n",
      "   0.10710384]\n",
      " [-1.49507049 -1.34232953  0.12182859  1.9904278   1.68117323  0.47602405\n",
      "  -0.81961469]]\n",
      "[[ 0.26740271  0.36750796  0.4158862  -0.25280347  1.03130523  0.25365031\n",
      "   1.32782746]\n",
      " [-2.65839581 -0.81635256  1.42086667  0.58514014 -0.54145813 -2.55767376\n",
      "  -0.5985675 ]\n",
      " [ 2.04802249 -0.90213871  0.15297324 -0.91875955  0.17398908  1.9984766\n",
      "   0.48164162]]\n"
     ]
    }
   ],
   "source": [
    "mask = (names == 'Ali') | (names == 'waqar')\n",
    "print(data[mask])\n",
    "print(data[~mask])\n"
   ]
  },
  {
   "cell_type": "markdown",
   "metadata": {},
   "source": [
    "# Fancy Indexing"
   ]
  },
  {
   "cell_type": "markdown",
   "metadata": {},
   "source": [
    "Fancy indexing is a term adopted by NumPy to describe indexing using integer arrays"
   ]
  },
  {
   "cell_type": "code",
   "execution_count": 78,
   "metadata": {},
   "outputs": [],
   "source": [
    "arry = np.random.randn(4,4)\n"
   ]
  },
  {
   "cell_type": "code",
   "execution_count": 86,
   "metadata": {},
   "outputs": [
    {
     "name": "stdout",
     "output_type": "stream",
     "text": [
      "(0, 0)\n",
      "(0, 1)\n",
      "(0, 2)\n",
      "(0, 3)\n",
      "(1, 0)\n",
      "(1, 1)\n",
      "(1, 2)\n",
      "(1, 3)\n",
      "(2, 0)\n",
      "(2, 1)\n",
      "(2, 2)\n",
      "(2, 3)\n",
      "(3, 0)\n",
      "(3, 1)\n",
      "(3, 2)\n",
      "(3, 3)\n"
     ]
    }
   ],
   "source": [
    "for index, _ in np.ndenumerate(arry):\n",
    "    print(index)\n",
    "    \n"
   ]
  },
  {
   "cell_type": "code",
   "execution_count": 87,
   "metadata": {},
   "outputs": [
    {
     "data": {
      "text/plain": [
       "array([[-0.53822095, -1.36098452,  1.88056641,  0.67613373],\n",
       "       [ 0.4983888 ,  2.05674216, -1.70102653, -0.76247021],\n",
       "       [ 0.98653373, -0.50948141, -0.86596004,  0.23876864],\n",
       "       [-1.59325033, -1.08375919, -0.40674594, -0.25897772]])"
      ]
     },
     "execution_count": 87,
     "metadata": {},
     "output_type": "execute_result"
    }
   ],
   "source": [
    "arry"
   ]
  },
  {
   "cell_type": "code",
   "execution_count": 89,
   "metadata": {},
   "outputs": [
    {
     "data": {
      "text/plain": [
       "array([[ 0.98653373, -0.50948141, -0.86596004,  0.23876864],\n",
       "       [ 0.4983888 ,  2.05674216, -1.70102653, -0.76247021],\n",
       "       [-0.53822095, -1.36098452,  1.88056641,  0.67613373],\n",
       "       [-1.59325033, -1.08375919, -0.40674594, -0.25897772]])"
      ]
     },
     "execution_count": 89,
     "metadata": {},
     "output_type": "execute_result"
    }
   ],
   "source": [
    "arry[[2,1,0,3]]"
   ]
  },
  {
   "cell_type": "code",
   "execution_count": 90,
   "metadata": {},
   "outputs": [
    {
     "data": {
      "text/plain": [
       "array([[ 0.98653373, -0.50948141, -0.86596004,  0.23876864],\n",
       "       [ 0.4983888 ,  2.05674216, -1.70102653, -0.76247021],\n",
       "       [-1.59325033, -1.08375919, -0.40674594, -0.25897772],\n",
       "       [-0.53822095, -1.36098452,  1.88056641,  0.67613373]])"
      ]
     },
     "execution_count": 90,
     "metadata": {},
     "output_type": "execute_result"
    }
   ],
   "source": [
    "arry[[-2,-3,-1,-4]]"
   ]
  },
  {
   "cell_type": "code",
   "execution_count": 92,
   "metadata": {},
   "outputs": [
    {
     "data": {
      "text/plain": [
       "array([-0.53822095,  2.05674216, -0.86596004, -0.25897772])"
      ]
     },
     "execution_count": 92,
     "metadata": {},
     "output_type": "execute_result"
    }
   ],
   "source": [
    "arry[[0,1,2,3],[0,1,2,3]]"
   ]
  },
  {
   "cell_type": "code",
   "execution_count": null,
   "metadata": {},
   "outputs": [],
   "source": []
  }
 ],
 "metadata": {
  "kernelspec": {
   "display_name": "Python 3",
   "language": "python",
   "name": "python3"
  },
  "language_info": {
   "codemirror_mode": {
    "name": "ipython",
    "version": 3
   },
   "file_extension": ".py",
   "mimetype": "text/x-python",
   "name": "python",
   "nbconvert_exporter": "python",
   "pygments_lexer": "ipython3",
   "version": "3.7.6"
  }
 },
 "nbformat": 4,
 "nbformat_minor": 4
}
