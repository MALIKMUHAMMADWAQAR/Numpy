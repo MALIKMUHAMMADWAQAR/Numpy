{
 "cells": [
  {
   "cell_type": "code",
   "execution_count": 1,
   "metadata": {},
   "outputs": [
    {
     "name": "stdout",
     "output_type": "stream",
     "text": [
      "[[1 2 3]\n",
      " [4 5 6]\n",
      " [7 8 9]]\n",
      "int8\n"
     ]
    }
   ],
   "source": [
    "import numpy as np\n",
    "nums = [[1,2,3],[4,5,6],[7,8,9]]\n",
    "arr_of_nums = np.array(nums,dtype = np.int8)\n",
    "print(arr_of_nums)\n",
    "print(arr_of_nums.dtype)\n"
   ]
  },
  {
   "cell_type": "markdown",
   "metadata": {},
   "source": [
    "# Changing datatypes of arrays "
   ]
  },
  {
   "cell_type": "code",
   "execution_count": 5,
   "metadata": {},
   "outputs": [
    {
     "name": "stdout",
     "output_type": "stream",
     "text": [
      "float64\n",
      "[[1.  3.4 3. ]\n",
      " [4.  5.  6. ]\n",
      " [7.  8.  9. ]]\n",
      "[[1 2 3]\n",
      " [4 5 6]\n",
      " [7 8 9]]\n"
     ]
    }
   ],
   "source": [
    "arr_typ_cov = arr_of_nums.astype(np.float64)\n",
    "print(arr_typ_cov.dtype)\n",
    "arr_typ_cov[0,1]=3.4\n",
    "print(arr_typ_cov)\n",
    "print(arr_of_nums)"
   ]
  },
  {
   "cell_type": "code",
   "execution_count": null,
   "metadata": {},
   "outputs": [],
   "source": [
    "arr_typ_cov = arr_of_nums.astype"
   ]
  },
  {
   "cell_type": "code",
   "execution_count": 9,
   "metadata": {},
   "outputs": [
    {
     "name": "stdout",
     "output_type": "stream",
     "text": [
      "[[3 0 0]\n",
      " [2 0 5]\n",
      " [2 0 6]]\n"
     ]
    }
   ],
   "source": [
    "nums = [[3.5,0,0],[2.4,0,5],[2,0,6]]\n",
    "arr = np.array(nums, dtype = np.int32)\n",
    "print(arr)"
   ]
  },
  {
   "cell_type": "code",
   "execution_count": 6,
   "metadata": {},
   "outputs": [],
   "source": [
    "empty = np.zeros??\n"
   ]
  },
  {
   "cell_type": "code",
   "execution_count": 12,
   "metadata": {},
   "outputs": [
    {
     "name": "stdout",
     "output_type": "stream",
     "text": [
      "[[0 0 0]\n",
      " [0 0 0]\n",
      " [0 0 0]]\n"
     ]
    }
   ],
   "source": [
    "empty = np.zeros((3,3),dtype = np.int32)\n",
    "print(empty)"
   ]
  },
  {
   "cell_type": "markdown",
   "metadata": {},
   "source": [
    "# Comparing two arrays"
   ]
  },
  {
   "cell_type": "code",
   "execution_count": 14,
   "metadata": {},
   "outputs": [
    {
     "name": "stdout",
     "output_type": "stream",
     "text": [
      "[[ True False False]\n",
      " [ True False  True]\n",
      " [ True False  True]]\n"
     ]
    },
    {
     "data": {
      "text/plain": [
       "array([3, 2, 5, 2, 6], dtype=int32)"
      ]
     },
     "execution_count": 14,
     "metadata": {},
     "output_type": "execute_result"
    }
   ],
   "source": [
    "print(arr > empty)\n",
    "arr[arr > empty]\n"
   ]
  },
  {
   "cell_type": "markdown",
   "metadata": {},
   "source": [
    "# Basic Indexing and slicing in numpy"
   ]
  },
  {
   "cell_type": "markdown",
   "metadata": {},
   "source": [
    "An important first dis‐tinction from Python’s built-in lists is that array slices are views on the original array.This means that the data is not copied, and any modifications to the view will be\n",
    "reflected in the source array."
   ]
  },
  {
   "cell_type": "code",
   "execution_count": 37,
   "metadata": {},
   "outputs": [
    {
     "name": "stdout",
     "output_type": "stream",
     "text": [
      "[[1 2 3]\n",
      " [4 5 6]\n",
      " [7 8 9]]\n",
      "[[1 3 3]\n",
      " [4 5 6]\n",
      " [7 8 9]]\n"
     ]
    }
   ],
   "source": [
    "list_of_nums = [[1,2,3],[4,5,6],[7,8,9]]\n",
    "arr = np.array(list_of_nums, dtype = np.int32)\n",
    "print(arr)\n",
    "slice_of_arr = arr[:2]\n",
    "slice_of_arr[0][1] = 3\n",
    "print(arr)\n",
    "\n"
   ]
  },
  {
   "cell_type": "markdown",
   "metadata": {},
   "source": [
    "other array programming languages that copy data more eagerly. As NumPy has been\n",
    "designed to be able to work with very large arrays, you could imagine performance\n",
    "and memory problems if NumPy insisted on always copying data.\n",
    "If you want a copy of a slice of an ndarray instead of a view, you\n",
    "will need to explicitly copy the array—for example,\n",
    "arr[5:8].copy() . Now you can compare below and above code how you can copy arrays in numpy"
   ]
  },
  {
   "cell_type": "code",
   "execution_count": 39,
   "metadata": {},
   "outputs": [
    {
     "name": "stdout",
     "output_type": "stream",
     "text": [
      "[[0 1 2]\n",
      " [3 4 5]\n",
      " [6 7 8]]\n",
      "[[0 1 2]\n",
      " [3 4 5]\n",
      " [6 7 8]]\n"
     ]
    }
   ],
   "source": [
    "arr = np.arange(9).reshape(3,3)\n",
    "print(arr)\n",
    "slice_arr = arr[:2].copy()\n",
    "slice_arr[0][1] = 3\n",
    "print(arr)\n",
    "\n"
   ]
  },
  {
   "cell_type": "code",
   "execution_count": 41,
   "metadata": {},
   "outputs": [
    {
     "name": "stdout",
     "output_type": "stream",
     "text": [
      "8\n",
      "8\n"
     ]
    }
   ],
   "source": [
    "print(arr[2,2])\n",
    "print(arr[2][2])\n"
   ]
  },
  {
   "cell_type": "markdown",
   "metadata": {},
   "source": [
    "Creating a three dimensional array with (two matrices of order 2 X 3). Create a temporary variable\n",
    "to hold previous values of array and then change the original array. After changing vlaues of array restore it to its original state"
   ]
  },
  {
   "cell_type": "code",
   "execution_count": 51,
   "metadata": {},
   "outputs": [
    {
     "name": "stdout",
     "output_type": "stream",
     "text": [
      "[[[1. 1. 1.]\n",
      "  [1. 1. 1.]]\n",
      "\n",
      " [[1. 1. 1.]\n",
      "  [1. 1. 1.]]]\n",
      "[[[2. 2. 2.]\n",
      "  [2. 2. 2.]]\n",
      "\n",
      " [[1. 1. 1.]\n",
      "  [1. 1. 1.]]]\n",
      "[[[1. 1. 1.]\n",
      "  [1. 1. 1.]]\n",
      "\n",
      " [[1. 1. 1.]\n",
      "  [1. 1. 1.]]]\n"
     ]
    }
   ],
   "source": [
    "arr = np.ones(12).reshape(2,2,3)\n",
    "print(arr)\n",
    "old_values_of_arr = arr[0].copy()\n",
    "arr[0] = 2\n",
    "print(arr)\n",
    "arr[0] = old_values_of_arr\n",
    "print(arr)\n",
    "\n"
   ]
  },
  {
   "cell_type": "code",
   "execution_count": 57,
   "metadata": {},
   "outputs": [
    {
     "name": "stdout",
     "output_type": "stream",
     "text": [
      "[[[ 1  2  3]\n",
      "  [ 4  5  6]]\n",
      "\n",
      " [[ 7  8  9]\n",
      "  [10 11 12]]]\n",
      "[[7 8]]\n"
     ]
    }
   ],
   "source": [
    "arr = np.array([[[1,2,3],[4,5,6]],[[7,8,9],[10,11,12]]])\n",
    "print(arr)\n",
    "arr[1,1]\n",
    "new_order_arr = arr[1, :1,:2]\n",
    "print(new_order_arr)"
   ]
  },
  {
   "cell_type": "code",
   "execution_count": 63,
   "metadata": {},
   "outputs": [
    {
     "name": "stdout",
     "output_type": "stream",
     "text": [
      "[[1. 2. 3.]\n",
      " [4. 5. 6.]\n",
      " [7. 8. 9.]]\n",
      "[[1. 2.]\n",
      " [4. 5.]\n",
      " [7. 8.]]\n"
     ]
    }
   ],
   "source": [
    "arr_2d = np.array([[1,2,3],[4,5,6],[7,8,9]],dtype = np.float32)\n",
    "print(arr_2d)\n",
    "arr_2d_slice = arr_2d[:3,:2]\n",
    "print(arr_2d_slice)"
   ]
  },
  {
   "cell_type": "code",
   "execution_count": 65,
   "metadata": {},
   "outputs": [
    {
     "name": "stdout",
     "output_type": "stream",
     "text": [
      "[[0. 0. 3.]\n",
      " [0. 0. 6.]\n",
      " [0. 0. 9.]]\n"
     ]
    }
   ],
   "source": [
    "arr_2d_slice[:] = 0\n",
    "print(arr_2d)"
   ]
  },
  {
   "cell_type": "code",
   "execution_count": null,
   "metadata": {},
   "outputs": [],
   "source": []
  }
 ],
 "metadata": {
  "kernelspec": {
   "display_name": "Python 3",
   "language": "python",
   "name": "python3"
  },
  "language_info": {
   "codemirror_mode": {
    "name": "ipython",
    "version": 3
   },
   "file_extension": ".py",
   "mimetype": "text/x-python",
   "name": "python",
   "nbconvert_exporter": "python",
   "pygments_lexer": "ipython3",
   "version": "3.7.6"
  }
 },
 "nbformat": 4,
 "nbformat_minor": 4
}
